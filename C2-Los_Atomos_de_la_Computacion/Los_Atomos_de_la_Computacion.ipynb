{
 "cells": [
  {
   "attachments": {},
   "cell_type": "markdown",
   "metadata": {},
   "source": [
    "# Los Átomos de la Computación"
   ]
  },
  {
   "attachments": {},
   "cell_type": "markdown",
   "metadata": {},
   "source": [
    "## Circuitos"
   ]
  },
  {
   "attachments": {},
   "cell_type": "markdown",
   "metadata": {},
   "source": [
    "En la computación clásica, representamos las operaciónes lógicas a partir de \n",
    "circuitos lógicos representados en diagramas como el de la figura de la izquierda.\n",
    "De manera análoga, en la computación cuántica usamos \"circuitos cuánticos\" para\n",
    "representar las operaciones lógicas que se realizan sobre los qubits.\n",
    "\n",
    "<table>\n",
    "<tr>\n",
    "<th> Clásico </th>\n",
    "<th> Cuántico </th>\n",
    "</tr>\n",
    "<tr>\n",
    "<td>\n",
    "\n",
    "<img align=\"center\" src=\"img/Circuitos_Clasicos.png\" alt=\"CircuitoLogico\" \n",
    "        width=\"300\"/>\n",
    "\n",
    "</td>\n",
    "<td>\n",
    "\n",
    "<img align=\"center\" src=\"img/Circuitos_Cuanticos.png\" alt=\"CircuitoCuantico\" \n",
    "        width=\"300\"/>\n",
    "\n",
    "</td>\n",
    "</tr>\n",
    "</table>\n"
   ]
  },
  {
   "attachments": {},
   "cell_type": "markdown",
   "metadata": {},
   "source": [
    "### Creando un circuito cuántico con Qiskit"
   ]
  },
  {
   "attachments": {},
   "cell_type": "markdown",
   "metadata": {},
   "source": [
    "Para crear un circuito cuántico en Qiskit, primero importamos la librería Quantum\n",
    "Circuit de Qiskit.\n",
    "\n",
    "Podemos especificar cuántos qubits debería tener nuestro circuito, y \n",
    "opcionalmente también podemos indicar cuántos bits clásicos debería tener.\n",
    "Necesitamos bits clásicos para almacenar las mediciones de nuestros qubits, \n",
    "la razón de esto se hará más clara más adelante.\n",
    "\n",
    "Habitualmente hay 3 pasos que tenemos que dar:\n",
    "1. Codificar el input\n",
    "2. Llevar a cabo los cálculos\n",
    "3. Extraer el output\n",
    "\n",
    "Procedimiento:\n",
    "1. **Crear un circuito** cuántico con 3 qubits y 3 bits clásicos\n",
    "2. Indicarle a nuestro ordenador cuántico que **mida nuestros\n",
    "qubits y registre los resultados**. Para hacer esto, agregamos una operación de \n",
    "\"medición\" a nuestro circuito cuántico."
   ]
  },
  {
   "cell_type": "code",
   "execution_count": 44,
   "metadata": {},
   "outputs": [
    {
     "data": {
      "image/png": "[encoded data removed]",
      "text/plain": [
       "<Figure size 371.107x367.889 with 1 Axes>"
      ]
     },
     "execution_count": 44,
     "metadata": {},
     "output_type": "execute_result"
    }
   ],
   "source": [
    "from qiskit import QuantumCircuit\n",
    "qc = QuantumCircuit(3, 3)\n",
    "# measure qubits 0, 1 & 2 to classical bits 0, 1 & 2 respectively\n",
    "qc.measure([0,1,2], [0,1,2])\n",
    "qc.draw(output='mpl')"
   ]
  },
  {
   "attachments": {},
   "cell_type": "markdown",
   "metadata": {},
   "source": [
    "A continuación, veamos cuáles serían los resultados de ejecutar este circuito. \n",
    "\n",
    "Para hacerlo, utilizaremos un:\n",
    "\n",
    "**simulador cuántico**: máquina estándar que calcula lo que haría una computadora cuántica ideal."
   ]
  },
  {
   "cell_type": "code",
   "execution_count": 45,
   "metadata": {},
   "outputs": [],
   "source": [
    "from qiskit.providers.aer import AerSimulator\n",
    "sim = AerSimulator()  # make new simulator object"
   ]
  },
  {
   "attachments": {},
   "cell_type": "markdown",
   "metadata": {},
   "source": [
    "Esto devolverá un objeto job que contiene información sobre los resultados de la\n",
    "ejecución."
   ]
  },
  {
   "cell_type": "code",
   "execution_count": 46,
   "metadata": {},
   "outputs": [
    {
     "data": {
      "text/plain": [
       "{'000': 1024}"
      ]
     },
     "execution_count": 46,
     "metadata": {},
     "output_type": "execute_result"
    }
   ],
   "source": [
    "job = sim.run(qc)      # run the experiment\n",
    "result = job.result()  # get the results\n",
    "result.get_counts()    # interpret the results as a \"counts\" dictionary"
   ]
  },
  {
   "attachments": {},
   "cell_type": "markdown",
   "metadata": {},
   "source": [
    "Nos  devuelve un diccionario de la forma {\"output\": Número de veces obtenido}\n",
    "\n",
    "- ¿Por qué 000?\n",
    "Por defecto todos los qbits están en 0 y no hemos hecho nada sobre ellos\n",
    "\n",
    "- ¿Por qué 1024?\n",
    "Por defecto hace 1024 mediciones en el simulador"
   ]
  },
  {
   "attachments": {},
   "cell_type": "markdown",
   "metadata": {},
   "source": [
    "## Codificando un output"
   ]
  },
  {
   "attachments": {},
   "cell_type": "markdown",
   "metadata": {},
   "source": [
    "Usamos una puerta NOT, que en quantum se representa con una *X-gate*, para \n",
    "cambiar las salidas del circuito de manera que obtengamos un número en binario\n",
    "representado con 3 bits clásicos."
   ]
  },
  {
   "cell_type": "code",
   "execution_count": 48,
   "metadata": {},
   "outputs": [
    {
     "data": {
      "image/png": "[encoded data removed]",
      "text/plain": [
       "<Figure size 371.107x367.889 with 1 Axes>"
      ]
     },
     "execution_count": 48,
     "metadata": {},
     "output_type": "execute_result"
    }
   ],
   "source": [
    "# Create quantum circuit with 3 qubits and 3 classical bits:\n",
    "qc = QuantumCircuit(3, 3)\n",
    "qc.x([0, 1])  # Perform X-gates on qubits 0 & 1\n",
    "qc.measure([0,1,2], [0,1,2])\n",
    "qc.draw(output=\"mpl\")    # returns a drawing of the circuit"
   ]
  },
  {
   "cell_type": "code",
   "execution_count": 49,
   "metadata": {},
   "outputs": [
    {
     "data": {
      "text/plain": [
       "{'011': 1024}"
      ]
     },
     "execution_count": 49,
     "metadata": {},
     "output_type": "execute_result"
    }
   ],
   "source": [
    "job = sim.run(qc)      # run the experiment\n",
    "result = job.result()  # get the results\n",
    "result.get_counts()    # interpret the results as a \"counts\" dictionary"
   ]
  },
  {
   "attachments": {},
   "cell_type": "markdown",
   "metadata": {},
   "source": [
    "De esta manera, usando puertas cuánticas, podemos codificar cualquier número.\n",
    "En este caso, hemos codificado el número 5."
   ]
  },
  {
   "attachments": {},
   "cell_type": "markdown",
   "metadata": {},
   "source": [
    "#### Ejercicio 1: Codifica el número 6"
   ]
  },
  {
   "attachments": {},
   "cell_type": "markdown",
   "metadata": {},
   "source": [
    "El 6 en binario es 110. Para codificarlo, necesitamos cambiar el segundo y tercer\n",
    "qubit."
   ]
  },
  {
   "cell_type": "code",
   "execution_count": 50,
   "metadata": {},
   "outputs": [
    {
     "data": {
      "image/png": "[encoded data removed]",
      "text/plain": [
       "<Figure size 454.719x367.889 with 1 Axes>"
      ]
     },
     "execution_count": 50,
     "metadata": {},
     "output_type": "execute_result"
    }
   ],
   "source": [
    "# Create quantum circuit with 3 qubits and 3 classical bits:\n",
    "qc = QuantumCircuit(3, 3)\n",
    "qc.x([1, 2])  # Perform X-gates on qubits 0\n",
    "qc.measure([0,1,2], [0,1,2])\n",
    "qc.draw(output=\"mpl\")    # returns a drawing of the circuit"
   ]
  },
  {
   "cell_type": "code",
   "execution_count": 11,
   "metadata": {},
   "outputs": [
    {
     "data": {
      "text/plain": [
       "{'110': 1024}"
      ]
     },
     "execution_count": 11,
     "metadata": {},
     "output_type": "execute_result"
    }
   ],
   "source": [
    "job = sim.run(qc)      # run the experiment\n",
    "result = job.result()  # get the results\n",
    "result.get_counts()    # interpret the results as a \"counts\" dictionary"
   ]
  },
  {
   "attachments": {},
   "cell_type": "markdown",
   "metadata": {},
   "source": [
    "## Circuito Suma"
   ]
  },
  {
   "attachments": {},
   "cell_type": "markdown",
   "metadata": {},
   "source": [
    "En binario, se cumple la siguiente regla para la suma (half-adder):\n",
    "\n",
    "$$\n",
    "0 + 0 = 00 \\\\\n",
    "0 + 1 = 01 \\\\\n",
    "1 + 0 = 01 \\\\\n",
    "1 + 1 = 10\n",
    "$$"
   ]
  },
  {
   "attachments": {},
   "cell_type": "markdown",
   "metadata": {},
   "source": [
    "Vamos a construirlo con cicuitos cuánticos. Nuestro objetivo es completar la imagen\n",
    "siguiente:\n",
    "\n",
    "<p align=\"center\">\n",
    "<img src=\"img/HalfAdder_empty.png\" alt=\"Semisumador\" \n",
    "        width=\"500\"/>\n",
    "</p>"
   ]
  },
  {
   "attachments": {},
   "cell_type": "markdown",
   "metadata": {},
   "source": [
    "Nos ayudaremos de una puerta XOR o CNOT, que en quantum se representa con una\n",
    "puerta *cx*. Su tabla de verdad es la siguiente:\n",
    "\n",
    "| Input 1 | Input 2 | Output |\n",
    "|:-------:|:-------:|:------:|\n",
    "|    0    |    0    |    0   |\n",
    "|    0    |    1    |    1   |\n",
    "|    1    |    0    |    1   |\n",
    "|    1    |    1    |    0   |"
   ]
  },
  {
   "attachments": {},
   "cell_type": "markdown",
   "metadata": {},
   "source": [
    "En los diagramas de circuitos, se representa de la siguiente manera. \n",
    "\n",
    "Esto se aplica a un par de qubits:\n",
    "\n",
    "- Uno actúa como el qubit de control (este es el que tiene el puntito).\n",
    "- El otro actúa como el qubit target (con el círculo grande y una cruz, como una marca de target)."
   ]
  },
  {
   "attachments": {},
   "cell_type": "markdown",
   "metadata": {},
   "source": [
    "<p align=\"center\">\n",
    "<img src=\"img/CNOT_Quant.png\" alt=\"CNOT\" \n",
    "        width=\"300\"/>\n",
    "</p>"
   ]
  },
  {
   "cell_type": "code",
   "execution_count": 51,
   "metadata": {},
   "outputs": [
    {
     "data": {
      "image/png": "[encoded data removed]",
      "text/plain": [
       "<Figure size 454.517x284.278 with 1 Axes>"
      ]
     },
     "metadata": {},
     "output_type": "display_data"
    },
    {
     "name": "stdout",
     "output_type": "stream",
     "text": [
      "Result:  {'11': 1024}\n"
     ]
    }
   ],
   "source": [
    "# Create quantum circuit with 2 qubits and 2 classical bits\n",
    "qc = QuantumCircuit(2, 2)\n",
    "qc.x(0)\n",
    "qc.cx(0,1)  # CNOT controlled by qubit 0 and targeting qubit 1\n",
    "qc.measure([0,1], [0,1])\n",
    "display(qc.draw(output='mpl'))     # display a drawing of the circuit\n",
    "\n",
    "job = sim.run(qc)      # run the experiment\n",
    "result = job.result()  # get the results\n",
    "# interpret the results as a \"counts\" dictionary\n",
    "print(\"Result: \", result.get_counts())"
   ]
  },
  {
   "attachments": {},
   "cell_type": "markdown",
   "metadata": {},
   "source": [
    "**Nota**: El primer qubit se fija en 1 con la X-gate, el segundo qubit  vale 0 \n",
    "por defecto. Al aplicar el CNOT, 0 XOR 1 = 1, por lo que el segundo qubit (target)\n",
    "cambia a 1.\n",
    "\n",
    "En el siguiente ejemplo tenemos un  1 XOR 1 que deberia ser 0. Por lo tanto, el \n",
    "output debe ser 01.\n"
   ]
  },
  {
   "cell_type": "code",
   "execution_count": 52,
   "metadata": {},
   "outputs": [
    {
     "data": {
      "image/png": "[encoded data removed]",
      "text/plain": [
       "<Figure size 454.517x284.278 with 1 Axes>"
      ]
     },
     "metadata": {},
     "output_type": "display_data"
    },
    {
     "name": "stdout",
     "output_type": "stream",
     "text": [
      "Result:  {'01': 1024}\n"
     ]
    }
   ],
   "source": [
    "# Create quantum circuit with 2 qubits and 2 classical bits\n",
    "qc = QuantumCircuit(2, 2)\n",
    "qc.x(0)\n",
    "qc.x(1)\n",
    "qc.cx(0,1)  # CNOT controlled by qubit 0 and targeting qubit 1\n",
    "qc.measure([0,1], [0,1])\n",
    "display(qc.draw(output='mpl'))     # display a drawing of the circuit\n",
    "\n",
    "job = sim.run(qc)      # run the experiment\n",
    "result = job.result()  # get the results\n",
    "# interpret the results as a \"counts\" dictionary\n",
    "print(\"Result: \", result.get_counts())"
   ]
  },
  {
   "attachments": {},
   "cell_type": "markdown",
   "metadata": {},
   "source": [
    "### Ennsamblado de salidas"
   ]
  },
  {
   "attachments": {},
   "cell_type": "markdown",
   "metadata": {},
   "source": [
    "Con esta puerta XOR podemos generar todas las posibles combnaciones de input 1\n",
    "y de input 2. Para ello nos apoyamos en un qubit de apoyo que por defecto vale 0.\n",
    "\n",
    "\n",
    "De esta manera, \n",
    "\n",
    "- si no negamos nada, la salida será 0.\n",
    "- si negamos q0, la salida será 1.\n",
    "- si negamos q1, la salida será 1.\n",
    "- si negamos q0 y q1, la salida será 0."
   ]
  },
  {
   "cell_type": "code",
   "execution_count": 53,
   "metadata": {},
   "outputs": [
    {
     "data": {
      "image/png": "[encoded data removed]",
      "text/plain": [
       "<Figure size 454.719x367.889 with 1 Axes>"
      ]
     },
     "metadata": {},
     "output_type": "display_data"
    },
    {
     "name": "stdout",
     "output_type": "stream",
     "text": [
      "Result:  {'01': 1024}\n"
     ]
    }
   ],
   "source": [
    "# Create quantum circuit with 2 qubits and 2 classical bits\n",
    "qc = QuantumCircuit(3, 2)\n",
    "# qc.x(1)\n",
    "qc.x(0)\n",
    "qc.cx(0,2)  # CNOT controlled by qubit 0 and targeting qubit 2\n",
    "qc.cx(1, 2)  # CNOT controlled by qubit 0 and targeting qubit 2\n",
    "\n",
    "qc.measure(2, 0)\n",
    "display(qc.draw(output='mpl'))     # display a drawing of the circuit\n",
    "\n",
    "job = sim.run(qc)      # run the experiment\n",
    "result = job.result()  # get the results\n",
    "# interpret the results as a \"counts\" dictionary\n",
    "print(\"Result: \", result.get_counts())"
   ]
  },
  {
   "attachments": {},
   "cell_type": "markdown",
   "metadata": {},
   "source": [
    "Entonces ahora tenemos que obtener una puerta que solo sea 0 cuando los dos sean 1."
   ]
  },
  {
   "cell_type": "code",
   "execution_count": 43,
   "metadata": {},
   "outputs": [
    {
     "data": {
      "image/png": "[encoded data removed]",
      "text/plain": [
       "<Figure size 621.941x451.5 with 1 Axes>"
      ]
     },
     "metadata": {},
     "output_type": "display_data"
    },
    {
     "data": {
      "text/plain": [
       "{'10': 1024}"
      ]
     },
     "execution_count": 43,
     "metadata": {},
     "output_type": "execute_result"
    }
   ],
   "source": [
    "test_qc = QuantumCircuit(4, 2)\n",
    "\n",
    "# First, our circuit should encode an input (here '11')\n",
    "test_qc.x(0)\n",
    "test_qc.x(1)\n",
    "\n",
    "# Next, it should carry out the adder circuit we created\n",
    "test_qc.cx(0,2)\n",
    "test_qc.cx(1,2)\n",
    "test_qc.ccx(0,1,3)\n",
    "\n",
    "# Finally, we will measure the bottom two qubits to extract the output\n",
    "test_qc.measure(2,0)\n",
    "test_qc.measure(3,1)\n",
    "display(test_qc.draw(output=\"mpl\"))\n",
    "\n",
    "job = sim.run(test_qc)  # run the experiment\n",
    "result = job.result()   # get the results\n",
    "result.get_counts()     # interpret the results as a “counts” dictionary"
   ]
  }
 ],
 "metadata": {
  "kernelspec": {
   "display_name": "Python 3",
   "language": "python",
   "name": "python3"
  },
  "language_info": {
   "codemirror_mode": {
    "name": "ipython",
    "version": 3
   },
   "file_extension": ".py",
   "mimetype": "text/x-python",
   "name": "python",
   "nbconvert_exporter": "python",
   "pygments_lexer": "ipython3",
   "version": "3.10.8"
  },
  "orig_nbformat": 4
 },
 "nbformat": 4,
 "nbformat_minor": 2
}
